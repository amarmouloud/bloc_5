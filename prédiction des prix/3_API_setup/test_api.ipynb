{
 "cells": [
  {
   "cell_type": "code",
   "execution_count": 1,
   "metadata": {},
   "outputs": [],
   "source": [
    "voiture = {\n",
    "  \"model_key\": \"Peugeot\",\n",
    "  \"mileage\": 100,\n",
    "  \"engine_power\": 100,\n",
    "  \"fuel\": \"diesel\",\n",
    "  \"paint_color\": \"black\",\n",
    "  \"car_type\": \"suv\",\n",
    "  \"private_parking_available\": True,\n",
    "  \"has_gps\": True,\n",
    "  \"has_air_conditioning\": True,\n",
    "  \"automatic_car\": True,\n",
    "  \"has_getaround_connect\": True,\n",
    "  \"has_speed_regulator\": True,\n",
    "  \"winter_tires\": True\n",
    "}"
   ]
  },
  {
   "cell_type": "code",
   "execution_count": 2,
   "metadata": {},
   "outputs": [],
   "source": [
    "import requests\n",
    "r = requests.post(\"https://bloc5-pricing-prediction.herokuapp.com/predict\", json=voiture)"
   ]
  },
  {
   "cell_type": "code",
   "execution_count": 3,
   "metadata": {},
   "outputs": [
    {
     "data": {
      "text/plain": [
       "{'prediction': 146.70440031962363}"
      ]
     },
     "execution_count": 3,
     "metadata": {},
     "output_type": "execute_result"
    }
   ],
   "source": [
    "r.json()"
   ]
  },
  {
   "cell_type": "code",
   "execution_count": null,
   "metadata": {},
   "outputs": [],
   "source": []
  }
 ],
 "metadata": {
  "kernelspec": {
   "display_name": "Python 3 (ipykernel)",
   "language": "python",
   "name": "python3"
  },
  "language_info": {
   "codemirror_mode": {
    "name": "ipython",
    "version": 3
   },
   "file_extension": ".py",
   "mimetype": "text/x-python",
   "name": "python",
   "nbconvert_exporter": "python",
   "pygments_lexer": "ipython3",
   "version": "3.9.13"
  },
  "vscode": {
   "interpreter": {
    "hash": "b0fa6594d8f4cbf19f97940f81e996739fb7646882a419484c72d19e05852a7e"
   }
  }
 },
 "nbformat": 4,
 "nbformat_minor": 4
}
